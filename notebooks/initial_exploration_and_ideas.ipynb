{
 "cells": [
  {
   "cell_type": "markdown",
   "metadata": {},
   "source": [
    "# Initial Exploration of the NYC Green Taxi Trip Dataset"
   ]
  },
  {
   "cell_type": "code",
   "execution_count": null,
   "metadata": {},
   "outputs": [],
   "source": [
    "# Import libraries\n",
    "import pandas as pd\n",
    "import matplotlib.pyplot as plt\n",
    "%matplotlib inline"
   ]
  },
  {
   "cell_type": "markdown",
   "metadata": {},
   "source": [
    "## Initial EDA"
   ]
  },
  {
   "cell_type": "code",
   "execution_count": null,
   "metadata": {},
   "outputs": [],
   "source": [
    "# Import data\n",
    "df = pd.read_csv('../data/raw/2015_Green_Taxi_Trip_Data_August.csv')\n",
    "df.head()"
   ]
  },
  {
   "cell_type": "markdown",
   "metadata": {},
   "source": [
    "OK, lets have a look at the columns and see what information is valuable.\n",
    "\n",
    "## vendorID \n",
    "* Code to indicate the LPEP provider that provided the record\n",
    "* Probably not useful"
   ]
  },
  {
   "cell_type": "markdown",
   "metadata": {},
   "source": [
    "## pickup_datetime\n",
    "* The date and time the meter was engaged\n",
    "* Definitely useful\n",
    "\n"
   ]
  },
  {
   "cell_type": "code",
   "execution_count": null,
   "metadata": {},
   "outputs": [],
   "source": []
  },
  {
   "cell_type": "markdown",
   "metadata": {},
   "source": [
    "## dropoff_date\n",
    "* The date and time the meter was disengaged\n",
    "* Same as above, definitely useful\n",
    "\n",
    "**Store_and_fwd_flag**\n",
    "* This flag indicates whether the trip record was held in vehicle memory before sending to the vendor, aka “store and forward,” because the vehicle did not have a connection to the server. \n",
    "* Doesn't appear too useful, might be interesting if dug into a bit more\n",
    "\n",
    "**rate_code**\n",
    "* The final rate code in effect at the end of the trip.  1= Standard rate 2=JFK 3=Newark 4=Nassau or Westchester 5=Negotiated fare 6=Group ride \n",
    "* Not really sure what that is, need to look into it further\n",
    "\n",
    "**Pickup_longitude, Pickup_latitude, Dropoff_longitude, Dropoff_latitude**\n",
    "* Location information\n",
    "* Map these to the NYC burroughs \n",
    "\n",
    "**Passenger_count**\n",
    "* How many passengers too the trip\n",
    "\n",
    "**Fare_amount, Extra, MTA_tax, Tip_amount, Tolls_amount, Improvement_surcharge, Total_amount**\n",
    "* Cost of the trip\n",
    "\n",
    "**Payment Type**\n",
    "* A numeric code signifying how the passenger paid for the trip.  1= Credit card 2= Cash 3= No charge 4= Dispute 5= Unknown 6= Voided trip\n",
    "\n",
    "**Trip Type**\n",
    "* A code indicating whether the trip was a street-hail or a dispatch that is automatically assigned based on the metered rate in use but can be altered by the driver.   1= Street-hail 2= Dispatch"
   ]
  },
  {
   "cell_type": "code",
   "execution_count": null,
   "metadata": {},
   "outputs": [],
   "source": []
  },
  {
   "cell_type": "code",
   "execution_count": null,
   "metadata": {},
   "outputs": [],
   "source": []
  },
  {
   "cell_type": "code",
   "execution_count": null,
   "metadata": {},
   "outputs": [],
   "source": []
  },
  {
   "cell_type": "markdown",
   "metadata": {},
   "source": [
    "### List of potential questions to explore\n",
    "* Idea based off the Store_and_fwd_flag - Do better connected taxi's make more money?\n",
    "* Can a model be built to look at taxi flows in the city? \n",
    "    * TODO: \n",
    "    * Map the lat/long info to the respective NYC burroughs\n",
    "    * Model the pickup/drop off locations\n",
    "    * Can this model predict what burrough the taxi driver should go to next?\n",
    "* How does passenger numbers effect fares? What burroughs have largest proportion of large passenger numbers?\n"
   ]
  }
 ],
 "metadata": {
  "kernelspec": {
   "display_name": "Python 3",
   "language": "python",
   "name": "python3"
  },
  "language_info": {
   "codemirror_mode": {
    "name": "ipython",
    "version": 3
   },
   "file_extension": ".py",
   "mimetype": "text/x-python",
   "name": "python",
   "nbconvert_exporter": "python",
   "pygments_lexer": "ipython3",
   "version": "3.6.3"
  }
 },
 "nbformat": 4,
 "nbformat_minor": 2
}
