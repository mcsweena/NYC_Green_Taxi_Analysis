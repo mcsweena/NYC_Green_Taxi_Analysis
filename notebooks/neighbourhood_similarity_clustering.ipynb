{
 "cells": [
  {
   "cell_type": "markdown",
   "metadata": {},
   "source": [
    "# Clustering Neighbours based on their hourly pickup profiles\n",
    "\n",
    "The idea here is to cluster neighbourhoods based on their 24 hour pickup profiles to find similar neighbourhoods to recommend to green taxi drivers in NYC. My initial thoughts are that if taxi drivers like working similar hours weekly, that I can find new neighbourhoods for them to work in that will have similar pickup profiles."
   ]
  },
  {
   "cell_type": "code",
   "execution_count": 2,
   "metadata": {},
   "outputs": [],
   "source": [
    "# Import Libraries\n",
    "import pandas as pd\n",
    "import numpy as np\n",
    "import matplotlib.pyplot as plt\n",
    "import seaborn as sns"
   ]
  },
  {
   "cell_type": "markdown",
   "metadata": {},
   "source": [
    "The data used for this task has already been slighly preprocessed. To work build profiles for each neighbourhood, the pickup and dropoff lat/longs had to be mapped to neighbourhoods. This was done with a script that can be found in the code folder and was processed on Digital Ocean.\n",
    "\n",
    "The data has also been reduced to look at one month, in this case August. This is to help speed up the overall analysis processes."
   ]
  },
  {
   "cell_type": "code",
   "execution_count": 3,
   "metadata": {},
   "outputs": [
    {
     "data": {
      "text/html": [
       "<div>\n",
       "<style scoped>\n",
       "    .dataframe tbody tr th:only-of-type {\n",
       "        vertical-align: middle;\n",
       "    }\n",
       "\n",
       "    .dataframe tbody tr th {\n",
       "        vertical-align: top;\n",
       "    }\n",
       "\n",
       "    .dataframe thead th {\n",
       "        text-align: right;\n",
       "    }\n",
       "</style>\n",
       "<table border=\"1\" class=\"dataframe\">\n",
       "  <thead>\n",
       "    <tr style=\"text-align: right;\">\n",
       "      <th></th>\n",
       "      <th>pu_time</th>\n",
       "      <th>do_time</th>\n",
       "      <th>pu_nbrhood</th>\n",
       "      <th>do_nbrhood</th>\n",
       "      <th>pass_count</th>\n",
       "      <th>distance</th>\n",
       "      <th>fare</th>\n",
       "      <th>tip</th>\n",
       "      <th>total</th>\n",
       "      <th>payment_type</th>\n",
       "      <th>trip_type</th>\n",
       "    </tr>\n",
       "  </thead>\n",
       "  <tbody>\n",
       "    <tr>\n",
       "      <th>0</th>\n",
       "      <td>08/29/2015 05:16:18 PM</td>\n",
       "      <td>08/29/2015 05:23:48 PM</td>\n",
       "      <td>MN33</td>\n",
       "      <td>MN11</td>\n",
       "      <td>1</td>\n",
       "      <td>1.90</td>\n",
       "      <td>8.0</td>\n",
       "      <td>0.00</td>\n",
       "      <td>8.80</td>\n",
       "      <td>1</td>\n",
       "      <td>1.0</td>\n",
       "    </tr>\n",
       "    <tr>\n",
       "      <th>1</th>\n",
       "      <td>08/28/2015 08:05:28 PM</td>\n",
       "      <td>08/28/2015 08:15:25 PM</td>\n",
       "      <td>BK73</td>\n",
       "      <td>BK75</td>\n",
       "      <td>1</td>\n",
       "      <td>2.30</td>\n",
       "      <td>9.5</td>\n",
       "      <td>2.16</td>\n",
       "      <td>12.96</td>\n",
       "      <td>1</td>\n",
       "      <td>1.0</td>\n",
       "    </tr>\n",
       "    <tr>\n",
       "      <th>2</th>\n",
       "      <td>08/01/2015 01:07:39 PM</td>\n",
       "      <td>08/01/2015 01:21:50 PM</td>\n",
       "      <td>BK42</td>\n",
       "      <td>BK34</td>\n",
       "      <td>1</td>\n",
       "      <td>2.70</td>\n",
       "      <td>12.0</td>\n",
       "      <td>2.55</td>\n",
       "      <td>15.35</td>\n",
       "      <td>1</td>\n",
       "      <td>1.0</td>\n",
       "    </tr>\n",
       "    <tr>\n",
       "      <th>3</th>\n",
       "      <td>08/10/2015 05:35:00 PM</td>\n",
       "      <td>08/10/2015 05:50:06 PM</td>\n",
       "      <td>QN18</td>\n",
       "      <td>QN21</td>\n",
       "      <td>1</td>\n",
       "      <td>3.08</td>\n",
       "      <td>13.0</td>\n",
       "      <td>2.96</td>\n",
       "      <td>17.76</td>\n",
       "      <td>1</td>\n",
       "      <td>1.0</td>\n",
       "    </tr>\n",
       "    <tr>\n",
       "      <th>4</th>\n",
       "      <td>08/07/2015 09:18:39 PM</td>\n",
       "      <td>08/07/2015 09:21:57 PM</td>\n",
       "      <td>QN68</td>\n",
       "      <td>QN70</td>\n",
       "      <td>1</td>\n",
       "      <td>0.69</td>\n",
       "      <td>4.5</td>\n",
       "      <td>0.00</td>\n",
       "      <td>5.80</td>\n",
       "      <td>2</td>\n",
       "      <td>1.0</td>\n",
       "    </tr>\n",
       "  </tbody>\n",
       "</table>\n",
       "</div>"
      ],
      "text/plain": [
       "                  pu_time                 do_time pu_nbrhood do_nbrhood  \\\n",
       "0  08/29/2015 05:16:18 PM  08/29/2015 05:23:48 PM       MN33       MN11   \n",
       "1  08/28/2015 08:05:28 PM  08/28/2015 08:15:25 PM       BK73       BK75   \n",
       "2  08/01/2015 01:07:39 PM  08/01/2015 01:21:50 PM       BK42       BK34   \n",
       "3  08/10/2015 05:35:00 PM  08/10/2015 05:50:06 PM       QN18       QN21   \n",
       "4  08/07/2015 09:18:39 PM  08/07/2015 09:21:57 PM       QN68       QN70   \n",
       "\n",
       "   pass_count  distance  fare   tip  total  payment_type  trip_type  \n",
       "0           1      1.90   8.0  0.00   8.80             1        1.0  \n",
       "1           1      2.30   9.5  2.16  12.96             1        1.0  \n",
       "2           1      2.70  12.0  2.55  15.35             1        1.0  \n",
       "3           1      3.08  13.0  2.96  17.76             1        1.0  \n",
       "4           1      0.69   4.5  0.00   5.80             2        1.0  "
      ]
     },
     "execution_count": 3,
     "metadata": {},
     "output_type": "execute_result"
    }
   ],
   "source": [
    "# Data Import\n",
    "df = pd.read_csv('../data/processed/zones_data_August.csv')\n",
    "df.head()"
   ]
  },
  {
   "cell_type": "code",
   "execution_count": 4,
   "metadata": {},
   "outputs": [
    {
     "data": {
      "text/plain": [
       "(1532343, 11)"
      ]
     },
     "execution_count": 4,
     "metadata": {},
     "output_type": "execute_result"
    }
   ],
   "source": [
    "df.shape"
   ]
  },
  {
   "cell_type": "markdown",
   "metadata": {},
   "source": [
    "During the mapping process, any lat/longs that were found sitting outside the neighbourhood bounderies of NYC were marked as XX00. As we won't need these for this analysis, they can be dropped."
   ]
  },
  {
   "cell_type": "code",
   "execution_count": 6,
   "metadata": {},
   "outputs": [],
   "source": [
    "# Drop XX00 neighbours\n",
    "df = df[df.pu_nbrhood != 'XX00']"
   ]
  },
  {
   "cell_type": "code",
   "execution_count": 7,
   "metadata": {},
   "outputs": [
    {
     "data": {
      "text/plain": [
       "(1492169, 11)"
      ]
     },
     "execution_count": 7,
     "metadata": {},
     "output_type": "execute_result"
    }
   ],
   "source": [
    "df.shape"
   ]
  },
  {
   "cell_type": "markdown",
   "metadata": {},
   "source": [
    "As we can see, from the shape of the dataframe, before and after dropping the unmapped rows, there were **40174 XX00 pickups**.\n",
    "\n",
    "Now lets group all neighbourhoods and count how many pickups were recorded in each neighbourhood over the month of August."
   ]
  },
  {
   "cell_type": "code",
   "execution_count": 101,
   "metadata": {},
   "outputs": [
    {
     "data": {
      "text/plain": [
       "pu_nbrhood\n",
       "BK09    30284\n",
       "BK17     4907\n",
       "BK19      429\n",
       "BK21     2530\n",
       "BK23     1118\n",
       "Name: total, dtype: int64"
      ]
     },
     "execution_count": 101,
     "metadata": {},
     "output_type": "execute_result"
    }
   ],
   "source": [
    "pu_group = df.groupby('pu_nbrhood').count()\n",
    "pu_group['total'].head()"
   ]
  },
  {
   "cell_type": "code",
   "execution_count": 102,
   "metadata": {},
   "outputs": [
    {
     "data": {
      "text/plain": [
       "count       174.000000\n",
       "mean       8575.683908\n",
       "std       18252.850243\n",
       "min           1.000000\n",
       "25%         100.500000\n",
       "50%        1102.000000\n",
       "75%        6292.000000\n",
       "max      111866.000000\n",
       "Name: total, dtype: float64"
      ]
     },
     "execution_count": 102,
     "metadata": {},
     "output_type": "execute_result"
    }
   ],
   "source": [
    "pu_group['total'].describe()"
   ]
  },
  {
   "cell_type": "code",
   "execution_count": 103,
   "metadata": {},
   "outputs": [
    {
     "data": {
      "text/plain": [
       "pu_nbrhood\n",
       "BK73    111866\n",
       "Name: total, dtype: int64"
      ]
     },
     "execution_count": 103,
     "metadata": {},
     "output_type": "execute_result"
    }
   ],
   "source": [
    "most_pu = pu_group[pu_group.total == 111866]\n",
    "most_pu['total']"
   ]
  },
  {
   "cell_type": "code",
   "execution_count": 104,
   "metadata": {},
   "outputs": [
    {
     "data": {
      "text/plain": [
       "pu_nbrhood\n",
       "MN21    1\n",
       "MN25    1\n",
       "SI32    1\n",
       "SI54    1\n",
       "Name: total, dtype: int64"
      ]
     },
     "execution_count": 104,
     "metadata": {},
     "output_type": "execute_result"
    }
   ],
   "source": [
    "least_pu = pu_group[pu_group.total == 1]\n",
    "least_pu['total']"
   ]
  },
  {
   "cell_type": "markdown",
   "metadata": {},
   "source": [
    "This grouping shows us that we pickups recorded in **174 neighbourhoods** in the month of August. The most active neighbourhood had **111,866 recored pickups (BK73 - Williamsburg)**, while **four neighbourhood had only one registered pickup (MN21 - Gramercy, MN25 - Lower Manhattan, SI32 - Rossville/Woodrow and SI54 - Great Kills)**."
   ]
  },
  {
   "cell_type": "markdown",
   "metadata": {},
   "source": [
    "### Data Prep\n",
    "For the purposes of clustering, I want an hourly profile of pickup numbers per neighbourhood.\n",
    "\n",
    "What do I need to do:\n",
    "- get a list of the neighbourhoods\n",
    "- convert pickup times to pandas datetime and isolate hours\n",
    "- create function to cycle through each hour and each neighbour and create unique column for each hour"
   ]
  },
  {
   "cell_type": "code",
   "execution_count": 267,
   "metadata": {},
   "outputs": [
    {
     "data": {
      "text/plain": [
       "array(['MN33', 'BK73', 'BK42', 'QN18', 'QN68', 'BK61', 'MN34', 'BK09',\n",
       "       'MN11', 'BK60', 'QN31', 'BK33', 'BK37', 'BK72', 'QN29', 'BX31',\n",
       "       'BK68', 'MN04', 'QN02', 'BK63', 'BK35', 'MN03', 'QN28', 'BX05',\n",
       "       'QN71', 'BK69', 'BK77', 'MN36', 'BK32', 'BK78', 'MN09', 'QN63',\n",
       "       'BX35', 'BK90', 'MN35', 'BK75', 'QN61', 'BK38', 'BK31', 'QN17',\n",
       "       'BX34', 'QN70', 'BX63', 'QN22', 'BK64', 'QN21', 'BK96', 'QN50',\n",
       "       'BK21', 'BK76', 'BK81', 'QN72', 'BX39', 'QN60', 'BK82', 'BX28',\n",
       "       'QN52', 'BX01', 'QN26', 'BX26', 'BK17', 'BX55', 'QN54', 'MN06',\n",
       "       'BX14', 'BX43', 'QN27', 'BX37', 'BK58', 'BK83', 'BK91', 'BK79',\n",
       "       'QN01', 'BX27', 'MN40', 'QN35', 'BX17', 'QN53', 'BX07', 'BX75',\n",
       "       'QN19', 'BX40', 'QN25', 'QN62', 'BK41', 'BX46', 'BX30', 'BX41',\n",
       "       'QN37', 'BX06', 'BX29', 'BX36', 'BK40', 'BK95', 'QN30', 'QN55',\n",
       "       'MN31', 'BK45', 'BX08', 'BK34', 'BK44', 'BK46', 'QN34', 'BK23',\n",
       "       'BK88', 'BX33', 'BK27', 'QN20', 'QN06', 'BK29', 'BX49', 'BX59',\n",
       "       'QN38', 'BK28', 'BX62', 'BX44', 'QN76', 'BK43', 'BX03', 'BK25',\n",
       "       'BX13', 'QN46', 'BK19', 'QN51', 'QN07', 'BK85', 'SI36', 'QN48',\n",
       "       'BX99', 'QN56', 'QN08', 'QN12', 'QN03', 'QN41', 'BX22', 'QN49',\n",
       "       'SI37', 'BK26', 'MN17', 'QN15', 'BX09', 'SI35', 'QN43', 'BK30',\n",
       "       'QN66', 'QN05', 'QN33', 'MN15', 'SI22', 'QN99', 'SI01', 'SI14',\n",
       "       'SI11', 'MN23', 'QN47', 'QN44', 'BK99', 'MN12', 'MN13', 'SI05',\n",
       "       'SI08', 'QN45', 'MN27', 'MN22', 'QN42', 'SI24', 'MN25', 'MN21',\n",
       "       'SI07', 'MN14', 'MN19', 'QN10', 'SI54', 'SI32'], dtype=object)"
      ]
     },
     "execution_count": 267,
     "metadata": {},
     "output_type": "execute_result"
    }
   ],
   "source": [
    "# Create list of NYC neighbourhoods\n",
    "vector_df = df.pu_nbrhood.unique()\n",
    "vector_df"
   ]
  },
  {
   "cell_type": "code",
   "execution_count": 167,
   "metadata": {},
   "outputs": [
    {
     "data": {
      "text/html": [
       "<div>\n",
       "<style scoped>\n",
       "    .dataframe tbody tr th:only-of-type {\n",
       "        vertical-align: middle;\n",
       "    }\n",
       "\n",
       "    .dataframe tbody tr th {\n",
       "        vertical-align: top;\n",
       "    }\n",
       "\n",
       "    .dataframe thead th {\n",
       "        text-align: right;\n",
       "    }\n",
       "</style>\n",
       "<table border=\"1\" class=\"dataframe\">\n",
       "  <thead>\n",
       "    <tr style=\"text-align: right;\">\n",
       "      <th></th>\n",
       "      <th>total</th>\n",
       "    </tr>\n",
       "    <tr>\n",
       "      <th>pu_nbrhood</th>\n",
       "      <th></th>\n",
       "    </tr>\n",
       "  </thead>\n",
       "  <tbody>\n",
       "    <tr>\n",
       "      <th>BK09</th>\n",
       "      <td>30284</td>\n",
       "    </tr>\n",
       "    <tr>\n",
       "      <th>BK17</th>\n",
       "      <td>4907</td>\n",
       "    </tr>\n",
       "  </tbody>\n",
       "</table>\n",
       "</div>"
      ],
      "text/plain": [
       "            total\n",
       "pu_nbrhood       \n",
       "BK09        30284\n",
       "BK17         4907"
      ]
     },
     "execution_count": 167,
     "metadata": {},
     "output_type": "execute_result"
    }
   ],
   "source": [
    "# Find total trips per neighbourhood\n",
    "count_df = df.groupby('pu_nbrhood').count()\n",
    "count_df = count_df.loc[:, ['pu_time']]\n",
    "count_df.columns = ['total']\n",
    "count_df.head(2)"
   ]
  },
  {
   "cell_type": "code",
   "execution_count": 168,
   "metadata": {},
   "outputs": [],
   "source": [
    "# Convert pickup time to datetime datatype\n",
    "nbrhood_df = df.loc[:,['pu_time', 'pu_nbrhood']]\n",
    "nbrhood_df['pu_time'] = pd.to_datetime(nbrhood_df['pu_time'], format='%m/%d/%Y %I:%M:%S %p')"
   ]
  },
  {
   "cell_type": "code",
   "execution_count": 169,
   "metadata": {},
   "outputs": [
    {
     "data": {
      "text/html": [
       "<div>\n",
       "<style scoped>\n",
       "    .dataframe tbody tr th:only-of-type {\n",
       "        vertical-align: middle;\n",
       "    }\n",
       "\n",
       "    .dataframe tbody tr th {\n",
       "        vertical-align: top;\n",
       "    }\n",
       "\n",
       "    .dataframe thead th {\n",
       "        text-align: right;\n",
       "    }\n",
       "</style>\n",
       "<table border=\"1\" class=\"dataframe\">\n",
       "  <thead>\n",
       "    <tr style=\"text-align: right;\">\n",
       "      <th></th>\n",
       "      <th>pu_time</th>\n",
       "      <th>pu_nbrhood</th>\n",
       "      <th>day</th>\n",
       "      <th>hour</th>\n",
       "    </tr>\n",
       "  </thead>\n",
       "  <tbody>\n",
       "    <tr>\n",
       "      <th>0</th>\n",
       "      <td>2015-08-29 17:16:18</td>\n",
       "      <td>MN33</td>\n",
       "      <td>29</td>\n",
       "      <td>17</td>\n",
       "    </tr>\n",
       "    <tr>\n",
       "      <th>1</th>\n",
       "      <td>2015-08-28 20:05:28</td>\n",
       "      <td>BK73</td>\n",
       "      <td>28</td>\n",
       "      <td>20</td>\n",
       "    </tr>\n",
       "    <tr>\n",
       "      <th>2</th>\n",
       "      <td>2015-08-01 13:07:39</td>\n",
       "      <td>BK42</td>\n",
       "      <td>1</td>\n",
       "      <td>13</td>\n",
       "    </tr>\n",
       "    <tr>\n",
       "      <th>3</th>\n",
       "      <td>2015-08-10 17:35:00</td>\n",
       "      <td>QN18</td>\n",
       "      <td>10</td>\n",
       "      <td>17</td>\n",
       "    </tr>\n",
       "    <tr>\n",
       "      <th>4</th>\n",
       "      <td>2015-08-07 21:18:39</td>\n",
       "      <td>QN68</td>\n",
       "      <td>7</td>\n",
       "      <td>21</td>\n",
       "    </tr>\n",
       "  </tbody>\n",
       "</table>\n",
       "</div>"
      ],
      "text/plain": [
       "              pu_time pu_nbrhood  day  hour\n",
       "0 2015-08-29 17:16:18       MN33   29    17\n",
       "1 2015-08-28 20:05:28       BK73   28    20\n",
       "2 2015-08-01 13:07:39       BK42    1    13\n",
       "3 2015-08-10 17:35:00       QN18   10    17\n",
       "4 2015-08-07 21:18:39       QN68    7    21"
      ]
     },
     "execution_count": 169,
     "metadata": {},
     "output_type": "execute_result"
    }
   ],
   "source": [
    "# Isolate day and hour from datetime into their own separate columns\n",
    "nbrhood_df['day'] = nbrhood_df['pu_time'].dt.day\n",
    "nbrhood_df['hour'] = nbrhood_df['pu_time'].dt.hour\n",
    "nbrhood_df.head()"
   ]
  },
  {
   "cell_type": "markdown",
   "metadata": {},
   "source": [
    "Now that we have the data we want, lets split the count into hourly columns per neighbourhood."
   ]
  },
  {
   "cell_type": "code",
   "execution_count": 170,
   "metadata": {},
   "outputs": [],
   "source": [
    "for i in range(1, 25):\n",
    "    # Isolate each hour and split them into their own separate dataframes\n",
    "    df_temp = nbrhood_df[nbrhood_df.hour == i]\n",
    "    \n",
    "    # Group the smaller dataframes by their neighbourhood\n",
    "    df_temp = df_temp.groupby('pu_nbrhood').count()\n",
    "\n",
    "    # Create temporary string to name each column\n",
    "    temp_name = 'hour_{}'.format(i)\n",
    "    \n",
    "    # Rename temporary series with it's unique hour name\n",
    "    df_temp[temp_name] = df_temp['hour']\n",
    "    df_temp = df_temp.loc[:, temp_name]\n",
    "    \n",
    "    # Convert series to dataframe\n",
    "    df_temp = df_temp.to_frame()\n",
    "    \n",
    "    # Join the temporary dataframe onto the large final dataframe\n",
    "    count_df = count_df.join(df_temp, how='left')"
   ]
  },
  {
   "cell_type": "markdown",
   "metadata": {},
   "source": [
    "As there is not pickups every hour in every neighbour, the above loop left a lot of NA values that will not be for our algorithm. Lets replace all NA's with zeros."
   ]
  },
  {
   "cell_type": "code",
   "execution_count": 171,
   "metadata": {},
   "outputs": [
    {
     "data": {
      "text/html": [
       "<div>\n",
       "<style scoped>\n",
       "    .dataframe tbody tr th:only-of-type {\n",
       "        vertical-align: middle;\n",
       "    }\n",
       "\n",
       "    .dataframe tbody tr th {\n",
       "        vertical-align: top;\n",
       "    }\n",
       "\n",
       "    .dataframe thead th {\n",
       "        text-align: right;\n",
       "    }\n",
       "</style>\n",
       "<table border=\"1\" class=\"dataframe\">\n",
       "  <thead>\n",
       "    <tr style=\"text-align: right;\">\n",
       "      <th></th>\n",
       "      <th>total</th>\n",
       "      <th>hour_1</th>\n",
       "      <th>hour_2</th>\n",
       "      <th>hour_3</th>\n",
       "      <th>hour_4</th>\n",
       "      <th>hour_5</th>\n",
       "      <th>hour_6</th>\n",
       "      <th>hour_7</th>\n",
       "      <th>hour_8</th>\n",
       "      <th>hour_9</th>\n",
       "      <th>...</th>\n",
       "      <th>hour_15</th>\n",
       "      <th>hour_16</th>\n",
       "      <th>hour_17</th>\n",
       "      <th>hour_18</th>\n",
       "      <th>hour_19</th>\n",
       "      <th>hour_20</th>\n",
       "      <th>hour_21</th>\n",
       "      <th>hour_22</th>\n",
       "      <th>hour_23</th>\n",
       "      <th>hour_24</th>\n",
       "    </tr>\n",
       "    <tr>\n",
       "      <th>pu_nbrhood</th>\n",
       "      <th></th>\n",
       "      <th></th>\n",
       "      <th></th>\n",
       "      <th></th>\n",
       "      <th></th>\n",
       "      <th></th>\n",
       "      <th></th>\n",
       "      <th></th>\n",
       "      <th></th>\n",
       "      <th></th>\n",
       "      <th></th>\n",
       "      <th></th>\n",
       "      <th></th>\n",
       "      <th></th>\n",
       "      <th></th>\n",
       "      <th></th>\n",
       "      <th></th>\n",
       "      <th></th>\n",
       "      <th></th>\n",
       "      <th></th>\n",
       "      <th></th>\n",
       "    </tr>\n",
       "  </thead>\n",
       "  <tbody>\n",
       "    <tr>\n",
       "      <th>BK09</th>\n",
       "      <td>30284</td>\n",
       "      <td>511.0</td>\n",
       "      <td>296.0</td>\n",
       "      <td>137.0</td>\n",
       "      <td>107.0</td>\n",
       "      <td>163.0</td>\n",
       "      <td>336.0</td>\n",
       "      <td>842.0</td>\n",
       "      <td>1666.0</td>\n",
       "      <td>1658.0</td>\n",
       "      <td>...</td>\n",
       "      <td>1620.0</td>\n",
       "      <td>1966.0</td>\n",
       "      <td>2103.0</td>\n",
       "      <td>2261.0</td>\n",
       "      <td>2211.0</td>\n",
       "      <td>1986.0</td>\n",
       "      <td>1864.0</td>\n",
       "      <td>1645.0</td>\n",
       "      <td>1145.0</td>\n",
       "      <td>0.0</td>\n",
       "    </tr>\n",
       "    <tr>\n",
       "      <th>BK17</th>\n",
       "      <td>4907</td>\n",
       "      <td>151.0</td>\n",
       "      <td>96.0</td>\n",
       "      <td>52.0</td>\n",
       "      <td>69.0</td>\n",
       "      <td>32.0</td>\n",
       "      <td>49.0</td>\n",
       "      <td>143.0</td>\n",
       "      <td>237.0</td>\n",
       "      <td>234.0</td>\n",
       "      <td>...</td>\n",
       "      <td>225.0</td>\n",
       "      <td>292.0</td>\n",
       "      <td>399.0</td>\n",
       "      <td>485.0</td>\n",
       "      <td>306.0</td>\n",
       "      <td>264.0</td>\n",
       "      <td>280.0</td>\n",
       "      <td>222.0</td>\n",
       "      <td>204.0</td>\n",
       "      <td>0.0</td>\n",
       "    </tr>\n",
       "    <tr>\n",
       "      <th>BK19</th>\n",
       "      <td>429</td>\n",
       "      <td>17.0</td>\n",
       "      <td>6.0</td>\n",
       "      <td>5.0</td>\n",
       "      <td>2.0</td>\n",
       "      <td>8.0</td>\n",
       "      <td>1.0</td>\n",
       "      <td>4.0</td>\n",
       "      <td>12.0</td>\n",
       "      <td>24.0</td>\n",
       "      <td>...</td>\n",
       "      <td>38.0</td>\n",
       "      <td>38.0</td>\n",
       "      <td>20.0</td>\n",
       "      <td>17.0</td>\n",
       "      <td>22.0</td>\n",
       "      <td>13.0</td>\n",
       "      <td>11.0</td>\n",
       "      <td>8.0</td>\n",
       "      <td>14.0</td>\n",
       "      <td>0.0</td>\n",
       "    </tr>\n",
       "    <tr>\n",
       "      <th>BK21</th>\n",
       "      <td>2530</td>\n",
       "      <td>114.0</td>\n",
       "      <td>68.0</td>\n",
       "      <td>32.0</td>\n",
       "      <td>15.0</td>\n",
       "      <td>15.0</td>\n",
       "      <td>15.0</td>\n",
       "      <td>56.0</td>\n",
       "      <td>85.0</td>\n",
       "      <td>69.0</td>\n",
       "      <td>...</td>\n",
       "      <td>124.0</td>\n",
       "      <td>142.0</td>\n",
       "      <td>168.0</td>\n",
       "      <td>177.0</td>\n",
       "      <td>167.0</td>\n",
       "      <td>172.0</td>\n",
       "      <td>204.0</td>\n",
       "      <td>202.0</td>\n",
       "      <td>191.0</td>\n",
       "      <td>0.0</td>\n",
       "    </tr>\n",
       "    <tr>\n",
       "      <th>BK23</th>\n",
       "      <td>1118</td>\n",
       "      <td>85.0</td>\n",
       "      <td>61.0</td>\n",
       "      <td>25.0</td>\n",
       "      <td>14.0</td>\n",
       "      <td>2.0</td>\n",
       "      <td>3.0</td>\n",
       "      <td>4.0</td>\n",
       "      <td>6.0</td>\n",
       "      <td>8.0</td>\n",
       "      <td>...</td>\n",
       "      <td>44.0</td>\n",
       "      <td>48.0</td>\n",
       "      <td>61.0</td>\n",
       "      <td>70.0</td>\n",
       "      <td>66.0</td>\n",
       "      <td>90.0</td>\n",
       "      <td>100.0</td>\n",
       "      <td>122.0</td>\n",
       "      <td>127.0</td>\n",
       "      <td>0.0</td>\n",
       "    </tr>\n",
       "  </tbody>\n",
       "</table>\n",
       "<p>5 rows × 25 columns</p>\n",
       "</div>"
      ],
      "text/plain": [
       "            total  hour_1  hour_2  hour_3  hour_4  hour_5  hour_6  hour_7  \\\n",
       "pu_nbrhood                                                                  \n",
       "BK09        30284   511.0   296.0   137.0   107.0   163.0   336.0   842.0   \n",
       "BK17         4907   151.0    96.0    52.0    69.0    32.0    49.0   143.0   \n",
       "BK19          429    17.0     6.0     5.0     2.0     8.0     1.0     4.0   \n",
       "BK21         2530   114.0    68.0    32.0    15.0    15.0    15.0    56.0   \n",
       "BK23         1118    85.0    61.0    25.0    14.0     2.0     3.0     4.0   \n",
       "\n",
       "            hour_8  hour_9   ...     hour_15  hour_16  hour_17  hour_18  \\\n",
       "pu_nbrhood                   ...                                          \n",
       "BK09        1666.0  1658.0   ...      1620.0   1966.0   2103.0   2261.0   \n",
       "BK17         237.0   234.0   ...       225.0    292.0    399.0    485.0   \n",
       "BK19          12.0    24.0   ...        38.0     38.0     20.0     17.0   \n",
       "BK21          85.0    69.0   ...       124.0    142.0    168.0    177.0   \n",
       "BK23           6.0     8.0   ...        44.0     48.0     61.0     70.0   \n",
       "\n",
       "            hour_19  hour_20  hour_21  hour_22  hour_23  hour_24  \n",
       "pu_nbrhood                                                        \n",
       "BK09         2211.0   1986.0   1864.0   1645.0   1145.0      0.0  \n",
       "BK17          306.0    264.0    280.0    222.0    204.0      0.0  \n",
       "BK19           22.0     13.0     11.0      8.0     14.0      0.0  \n",
       "BK21          167.0    172.0    204.0    202.0    191.0      0.0  \n",
       "BK23           66.0     90.0    100.0    122.0    127.0      0.0  \n",
       "\n",
       "[5 rows x 25 columns]"
      ]
     },
     "execution_count": 171,
     "metadata": {},
     "output_type": "execute_result"
    }
   ],
   "source": [
    "# Replace NA values with zeros\n",
    "count_df.fillna(0, inplace=True)\n",
    "count_df.head()"
   ]
  },
  {
   "cell_type": "markdown",
   "metadata": {},
   "source": [
    "Ok this should give us enough to work with for an initial trial of the KMeans clustering algorithm."
   ]
  },
  {
   "cell_type": "code",
   "execution_count": 96,
   "metadata": {},
   "outputs": [],
   "source": [
    "# Drop total column\n",
    "count_df.drop('total', axis='columns', inplace=True)"
   ]
  },
  {
   "cell_type": "code",
   "execution_count": 97,
   "metadata": {},
   "outputs": [],
   "source": [
    "from sklearn.cluster import KMeans"
   ]
  },
  {
   "cell_type": "code",
   "execution_count": 98,
   "metadata": {},
   "outputs": [],
   "source": [
    "kmeans = KMeans(n_clusters=12, random_state=0, n_init).fit(count_df)"
   ]
  },
  {
   "cell_type": "code",
   "execution_count": 112,
   "metadata": {},
   "outputs": [
    {
     "data": {
      "text/plain": [
       "(array([ 0,  1,  2,  3,  4,  5,  6,  7,  8,  9, 10, 11], dtype=int32),\n",
       " array([130,   2,  11,   1,   2,  17,   2,   3,   1,   1,   3,   1]))"
      ]
     },
     "execution_count": 112,
     "metadata": {},
     "output_type": "execute_result"
    }
   ],
   "source": [
    "np.unique(kmeans.labels_, return_counts=True)"
   ]
  },
  {
   "cell_type": "code",
   "execution_count": 105,
   "metadata": {},
   "outputs": [],
   "source": [
    "pu_group['kmean_clusters'] = kmeans.labels_\n",
    "pu_group.drop(['pu_time', 'do_time', 'do_nbrhood', 'pass_count', \n",
    "               'distance', 'fare', 'tip', 'payment_type', 'trip_type'],\n",
    "             axis='columns', inplace=True)"
   ]
  },
  {
   "cell_type": "code",
   "execution_count": 106,
   "metadata": {},
   "outputs": [
    {
     "data": {
      "text/html": [
       "<div>\n",
       "<style scoped>\n",
       "    .dataframe tbody tr th:only-of-type {\n",
       "        vertical-align: middle;\n",
       "    }\n",
       "\n",
       "    .dataframe tbody tr th {\n",
       "        vertical-align: top;\n",
       "    }\n",
       "\n",
       "    .dataframe thead th {\n",
       "        text-align: right;\n",
       "    }\n",
       "</style>\n",
       "<table border=\"1\" class=\"dataframe\">\n",
       "  <thead>\n",
       "    <tr style=\"text-align: right;\">\n",
       "      <th></th>\n",
       "      <th>pu_nbrhood</th>\n",
       "      <th>total</th>\n",
       "      <th>kmean_clusters</th>\n",
       "    </tr>\n",
       "  </thead>\n",
       "  <tbody>\n",
       "    <tr>\n",
       "      <th>0</th>\n",
       "      <td>BK09</td>\n",
       "      <td>30284</td>\n",
       "      <td>2</td>\n",
       "    </tr>\n",
       "    <tr>\n",
       "      <th>1</th>\n",
       "      <td>BK17</td>\n",
       "      <td>4907</td>\n",
       "      <td>0</td>\n",
       "    </tr>\n",
       "    <tr>\n",
       "      <th>2</th>\n",
       "      <td>BK19</td>\n",
       "      <td>429</td>\n",
       "      <td>0</td>\n",
       "    </tr>\n",
       "    <tr>\n",
       "      <th>3</th>\n",
       "      <td>BK21</td>\n",
       "      <td>2530</td>\n",
       "      <td>0</td>\n",
       "    </tr>\n",
       "    <tr>\n",
       "      <th>4</th>\n",
       "      <td>BK23</td>\n",
       "      <td>1118</td>\n",
       "      <td>0</td>\n",
       "    </tr>\n",
       "  </tbody>\n",
       "</table>\n",
       "</div>"
      ],
      "text/plain": [
       "  pu_nbrhood  total  kmean_clusters\n",
       "0       BK09  30284               2\n",
       "1       BK17   4907               0\n",
       "2       BK19    429               0\n",
       "3       BK21   2530               0\n",
       "4       BK23   1118               0"
      ]
     },
     "execution_count": 106,
     "metadata": {},
     "output_type": "execute_result"
    }
   ],
   "source": [
    "pu_group.reset_index().head()"
   ]
  },
  {
   "cell_type": "code",
   "execution_count": 107,
   "metadata": {},
   "outputs": [
    {
     "name": "stdout",
     "output_type": "stream",
     "text": [
      "0\n",
      "Index(['BK17', 'BK19', 'BK21', 'BK23', 'BK25', 'BK26', 'BK27', 'BK28', 'BK29',\n",
      "       'BK30',\n",
      "       ...\n",
      "       'SI08', 'SI11', 'SI14', 'SI22', 'SI24', 'SI32', 'SI35', 'SI36', 'SI37',\n",
      "       'SI54'],\n",
      "      dtype='object', name='pu_nbrhood', length=130)\n",
      "\n",
      "\n",
      "1\n",
      "Index(['QN29', 'QN70'], dtype='object', name='pu_nbrhood')\n",
      "\n",
      "\n",
      "2\n",
      "Index(['BK09', 'BK33', 'BK61', 'BK69', 'BK75', 'BK76', 'MN04', 'MN36', 'QN17',\n",
      "       'QN63', 'QN72'],\n",
      "      dtype='object', name='pu_nbrhood')\n",
      "\n",
      "\n",
      "3\n",
      "Index(['BK73'], dtype='object', name='pu_nbrhood')\n",
      "\n",
      "\n",
      "4\n",
      "Index(['MN11', 'MN34'], dtype='object', name='pu_nbrhood')\n",
      "\n",
      "\n",
      "5\n",
      "Index(['BK35', 'BK60', 'BK64', 'BX14', 'BX34', 'BX39', 'BX63', 'MN06', 'MN35',\n",
      "       'QN18', 'QN22', 'QN26', 'QN50', 'QN60', 'QN61', 'QN68', 'QN71'],\n",
      "      dtype='object', name='pu_nbrhood')\n",
      "\n",
      "\n",
      "6\n",
      "Index(['MN03', 'MN09'], dtype='object', name='pu_nbrhood')\n",
      "\n",
      "\n",
      "7\n",
      "Index(['BK37', 'BK68', 'QN31'], dtype='object', name='pu_nbrhood')\n",
      "\n",
      "\n",
      "8\n",
      "Index(['MN33'], dtype='object', name='pu_nbrhood')\n",
      "\n",
      "\n",
      "9\n",
      "Index(['BK38'], dtype='object', name='pu_nbrhood')\n",
      "\n",
      "\n",
      "10\n",
      "Index(['BK77', 'BK78', 'BK90'], dtype='object', name='pu_nbrhood')\n",
      "\n",
      "\n",
      "11\n",
      "Index(['QN28'], dtype='object', name='pu_nbrhood')\n",
      "\n",
      "\n"
     ]
    }
   ],
   "source": [
    "for k, v in pu_group.groupby('kmean_clusters').groups.items():\n",
    "    print(k)\n",
    "    print(v)\n",
    "    print(\"\\n\")"
   ]
  },
  {
   "cell_type": "markdown",
   "metadata": {},
   "source": [
    "If we break the dataset into 12 clusters, we can see that there is one large cluster, with 11 other small clusters. This may be because it hasn't iterated through the algorithm enough. Lets test this assumption."
   ]
  },
  {
   "cell_type": "code",
   "execution_count": 113,
   "metadata": {},
   "outputs": [],
   "source": [
    "kmeans100 = KMeans(n_clusters=12, random_state=0, n_init=100).fit(count_df)"
   ]
  },
  {
   "cell_type": "code",
   "execution_count": 114,
   "metadata": {},
   "outputs": [
    {
     "data": {
      "text/plain": [
       "(array([ 0,  1,  2,  3,  4,  5,  6,  7,  8,  9, 10, 11], dtype=int32),\n",
       " array([130,   2,  11,   1,   2,  17,   2,   3,   1,   1,   3,   1]))"
      ]
     },
     "execution_count": 114,
     "metadata": {},
     "output_type": "execute_result"
    }
   ],
   "source": [
    "np.unique(kmeans100.labels_, return_counts=True)"
   ]
  },
  {
   "cell_type": "markdown",
   "metadata": {},
   "source": [
    "Comparing both label counts, they look the exact same, so it it not the number of iterations that is causing the clustering to be so lopsided.\n",
    "\n",
    "My next theory is that neighbours with low or very large pickup numbers are being clustered into the small outlier clusters. To improve this, lets scale each neighbourhood to between 0 and 1."
   ]
  },
  {
   "cell_type": "code",
   "execution_count": 218,
   "metadata": {},
   "outputs": [],
   "source": [
    "new_final_df = count_df[['total', 'hour_1']]\n",
    "# final_df.drop('total', axis='columns', inplace=True)"
   ]
  },
  {
   "cell_type": "code",
   "execution_count": 219,
   "metadata": {},
   "outputs": [
    {
     "name": "stderr",
     "output_type": "stream",
     "text": [
      "/Library/Frameworks/Python.framework/Versions/3.6/lib/python3.6/site-packages/pandas/core/frame.py:2540: SettingWithCopyWarning: \n",
      "A value is trying to be set on a copy of a slice from a DataFrame.\n",
      "Try using .loc[row_indexer,col_indexer] = value instead\n",
      "\n",
      "See the caveats in the documentation: http://pandas.pydata.org/pandas-docs/stable/indexing.html#indexing-view-versus-copy\n",
      "  self[k1] = value[k2]\n"
     ]
    }
   ],
   "source": [
    "for i in range(1, 25, 2):\n",
    "    temp_name1 = 'hour_{}'.format(i)\n",
    "    temp_name2 = 'hour_{}'.format(i+1)\n",
    "\n",
    "    new_final_df[[temp_name1, temp_name2]] = count_df[[temp_name1, temp_name2]].div(count_df.total, axis=0)"
   ]
  },
  {
   "cell_type": "code",
   "execution_count": 220,
   "metadata": {},
   "outputs": [
    {
     "data": {
      "text/html": [
       "<div>\n",
       "<style scoped>\n",
       "    .dataframe tbody tr th:only-of-type {\n",
       "        vertical-align: middle;\n",
       "    }\n",
       "\n",
       "    .dataframe tbody tr th {\n",
       "        vertical-align: top;\n",
       "    }\n",
       "\n",
       "    .dataframe thead th {\n",
       "        text-align: right;\n",
       "    }\n",
       "</style>\n",
       "<table border=\"1\" class=\"dataframe\">\n",
       "  <thead>\n",
       "    <tr style=\"text-align: right;\">\n",
       "      <th></th>\n",
       "      <th>total</th>\n",
       "      <th>hour_1</th>\n",
       "      <th>hour_2</th>\n",
       "      <th>hour_3</th>\n",
       "      <th>hour_4</th>\n",
       "      <th>hour_5</th>\n",
       "      <th>hour_6</th>\n",
       "      <th>hour_7</th>\n",
       "      <th>hour_8</th>\n",
       "      <th>hour_9</th>\n",
       "      <th>...</th>\n",
       "      <th>hour_15</th>\n",
       "      <th>hour_16</th>\n",
       "      <th>hour_17</th>\n",
       "      <th>hour_18</th>\n",
       "      <th>hour_19</th>\n",
       "      <th>hour_20</th>\n",
       "      <th>hour_21</th>\n",
       "      <th>hour_22</th>\n",
       "      <th>hour_23</th>\n",
       "      <th>hour_24</th>\n",
       "    </tr>\n",
       "    <tr>\n",
       "      <th>pu_nbrhood</th>\n",
       "      <th></th>\n",
       "      <th></th>\n",
       "      <th></th>\n",
       "      <th></th>\n",
       "      <th></th>\n",
       "      <th></th>\n",
       "      <th></th>\n",
       "      <th></th>\n",
       "      <th></th>\n",
       "      <th></th>\n",
       "      <th></th>\n",
       "      <th></th>\n",
       "      <th></th>\n",
       "      <th></th>\n",
       "      <th></th>\n",
       "      <th></th>\n",
       "      <th></th>\n",
       "      <th></th>\n",
       "      <th></th>\n",
       "      <th></th>\n",
       "      <th></th>\n",
       "    </tr>\n",
       "  </thead>\n",
       "  <tbody>\n",
       "    <tr>\n",
       "      <th>BK09</th>\n",
       "      <td>30284</td>\n",
       "      <td>0.016874</td>\n",
       "      <td>0.009774</td>\n",
       "      <td>0.004524</td>\n",
       "      <td>0.003533</td>\n",
       "      <td>0.005382</td>\n",
       "      <td>0.011095</td>\n",
       "      <td>0.027803</td>\n",
       "      <td>0.055013</td>\n",
       "      <td>0.054748</td>\n",
       "      <td>...</td>\n",
       "      <td>0.053494</td>\n",
       "      <td>0.064919</td>\n",
       "      <td>0.069443</td>\n",
       "      <td>0.074660</td>\n",
       "      <td>0.073009</td>\n",
       "      <td>0.065579</td>\n",
       "      <td>0.061551</td>\n",
       "      <td>0.054319</td>\n",
       "      <td>0.037809</td>\n",
       "      <td>0.0</td>\n",
       "    </tr>\n",
       "    <tr>\n",
       "      <th>BK17</th>\n",
       "      <td>4907</td>\n",
       "      <td>0.030772</td>\n",
       "      <td>0.019564</td>\n",
       "      <td>0.010597</td>\n",
       "      <td>0.014062</td>\n",
       "      <td>0.006521</td>\n",
       "      <td>0.009986</td>\n",
       "      <td>0.029142</td>\n",
       "      <td>0.048298</td>\n",
       "      <td>0.047687</td>\n",
       "      <td>...</td>\n",
       "      <td>0.045853</td>\n",
       "      <td>0.059507</td>\n",
       "      <td>0.081312</td>\n",
       "      <td>0.098838</td>\n",
       "      <td>0.062360</td>\n",
       "      <td>0.053801</td>\n",
       "      <td>0.057061</td>\n",
       "      <td>0.045241</td>\n",
       "      <td>0.041573</td>\n",
       "      <td>0.0</td>\n",
       "    </tr>\n",
       "  </tbody>\n",
       "</table>\n",
       "<p>2 rows × 25 columns</p>\n",
       "</div>"
      ],
      "text/plain": [
       "            total    hour_1    hour_2    hour_3    hour_4    hour_5    hour_6  \\\n",
       "pu_nbrhood                                                                      \n",
       "BK09        30284  0.016874  0.009774  0.004524  0.003533  0.005382  0.011095   \n",
       "BK17         4907  0.030772  0.019564  0.010597  0.014062  0.006521  0.009986   \n",
       "\n",
       "              hour_7    hour_8    hour_9   ...      hour_15   hour_16  \\\n",
       "pu_nbrhood                                 ...                          \n",
       "BK09        0.027803  0.055013  0.054748   ...     0.053494  0.064919   \n",
       "BK17        0.029142  0.048298  0.047687   ...     0.045853  0.059507   \n",
       "\n",
       "             hour_17   hour_18   hour_19   hour_20   hour_21   hour_22  \\\n",
       "pu_nbrhood                                                               \n",
       "BK09        0.069443  0.074660  0.073009  0.065579  0.061551  0.054319   \n",
       "BK17        0.081312  0.098838  0.062360  0.053801  0.057061  0.045241   \n",
       "\n",
       "             hour_23  hour_24  \n",
       "pu_nbrhood                     \n",
       "BK09        0.037809      0.0  \n",
       "BK17        0.041573      0.0  \n",
       "\n",
       "[2 rows x 25 columns]"
      ]
     },
     "execution_count": 220,
     "metadata": {},
     "output_type": "execute_result"
    }
   ],
   "source": [
    "new_final_df.head(2)"
   ]
  },
  {
   "cell_type": "code",
   "execution_count": 221,
   "metadata": {},
   "outputs": [],
   "source": [
    "# new_final_df.drop(list(vector_df), axis='columns', inplace=True)\n",
    "new_final_df.drop('total', axis='columns', inplace=True)"
   ]
  },
  {
   "cell_type": "code",
   "execution_count": 275,
   "metadata": {},
   "outputs": [],
   "source": [
    "# # Reorder columns\n",
    "# cols = final_df.columns.tolist()\n",
    "# cols = cols[-22:] + cols[:-22]\n",
    "# final_df = final_df[cols]\n",
    "# final_df.head()"
   ]
  },
  {
   "cell_type": "code",
   "execution_count": 223,
   "metadata": {},
   "outputs": [
    {
     "data": {
      "text/html": [
       "<div>\n",
       "<style scoped>\n",
       "    .dataframe tbody tr th:only-of-type {\n",
       "        vertical-align: middle;\n",
       "    }\n",
       "\n",
       "    .dataframe tbody tr th {\n",
       "        vertical-align: top;\n",
       "    }\n",
       "\n",
       "    .dataframe thead th {\n",
       "        text-align: right;\n",
       "    }\n",
       "</style>\n",
       "<table border=\"1\" class=\"dataframe\">\n",
       "  <thead>\n",
       "    <tr style=\"text-align: right;\">\n",
       "      <th></th>\n",
       "      <th>pu_nbrhood</th>\n",
       "      <th>hour_1</th>\n",
       "      <th>hour_2</th>\n",
       "      <th>hour_3</th>\n",
       "      <th>hour_4</th>\n",
       "      <th>hour_5</th>\n",
       "      <th>hour_6</th>\n",
       "      <th>hour_7</th>\n",
       "      <th>hour_8</th>\n",
       "      <th>hour_9</th>\n",
       "      <th>...</th>\n",
       "      <th>hour_15</th>\n",
       "      <th>hour_16</th>\n",
       "      <th>hour_17</th>\n",
       "      <th>hour_18</th>\n",
       "      <th>hour_19</th>\n",
       "      <th>hour_20</th>\n",
       "      <th>hour_21</th>\n",
       "      <th>hour_22</th>\n",
       "      <th>hour_23</th>\n",
       "      <th>hour_24</th>\n",
       "    </tr>\n",
       "  </thead>\n",
       "  <tbody>\n",
       "    <tr>\n",
       "      <th>0</th>\n",
       "      <td>Cobble Hill</td>\n",
       "      <td>0.016874</td>\n",
       "      <td>0.009774</td>\n",
       "      <td>0.004524</td>\n",
       "      <td>0.003533</td>\n",
       "      <td>0.005382</td>\n",
       "      <td>0.011095</td>\n",
       "      <td>0.027803</td>\n",
       "      <td>0.055013</td>\n",
       "      <td>0.054748</td>\n",
       "      <td>...</td>\n",
       "      <td>0.053494</td>\n",
       "      <td>0.064919</td>\n",
       "      <td>0.069443</td>\n",
       "      <td>0.074660</td>\n",
       "      <td>0.073009</td>\n",
       "      <td>0.065579</td>\n",
       "      <td>0.061551</td>\n",
       "      <td>0.054319</td>\n",
       "      <td>0.037809</td>\n",
       "      <td>0.0</td>\n",
       "    </tr>\n",
       "    <tr>\n",
       "      <th>1</th>\n",
       "      <td>Sheepshead Bay</td>\n",
       "      <td>0.030772</td>\n",
       "      <td>0.019564</td>\n",
       "      <td>0.010597</td>\n",
       "      <td>0.014062</td>\n",
       "      <td>0.006521</td>\n",
       "      <td>0.009986</td>\n",
       "      <td>0.029142</td>\n",
       "      <td>0.048298</td>\n",
       "      <td>0.047687</td>\n",
       "      <td>...</td>\n",
       "      <td>0.045853</td>\n",
       "      <td>0.059507</td>\n",
       "      <td>0.081312</td>\n",
       "      <td>0.098838</td>\n",
       "      <td>0.062360</td>\n",
       "      <td>0.053801</td>\n",
       "      <td>0.057061</td>\n",
       "      <td>0.045241</td>\n",
       "      <td>0.041573</td>\n",
       "      <td>0.0</td>\n",
       "    </tr>\n",
       "    <tr>\n",
       "      <th>2</th>\n",
       "      <td>Brighton Beach</td>\n",
       "      <td>0.039627</td>\n",
       "      <td>0.013986</td>\n",
       "      <td>0.011655</td>\n",
       "      <td>0.004662</td>\n",
       "      <td>0.018648</td>\n",
       "      <td>0.002331</td>\n",
       "      <td>0.009324</td>\n",
       "      <td>0.027972</td>\n",
       "      <td>0.055944</td>\n",
       "      <td>...</td>\n",
       "      <td>0.088578</td>\n",
       "      <td>0.088578</td>\n",
       "      <td>0.046620</td>\n",
       "      <td>0.039627</td>\n",
       "      <td>0.051282</td>\n",
       "      <td>0.030303</td>\n",
       "      <td>0.025641</td>\n",
       "      <td>0.018648</td>\n",
       "      <td>0.032634</td>\n",
       "      <td>0.0</td>\n",
       "    </tr>\n",
       "    <tr>\n",
       "      <th>3</th>\n",
       "      <td>Coney Island</td>\n",
       "      <td>0.045059</td>\n",
       "      <td>0.026877</td>\n",
       "      <td>0.012648</td>\n",
       "      <td>0.005929</td>\n",
       "      <td>0.005929</td>\n",
       "      <td>0.005929</td>\n",
       "      <td>0.022134</td>\n",
       "      <td>0.033597</td>\n",
       "      <td>0.027273</td>\n",
       "      <td>...</td>\n",
       "      <td>0.049012</td>\n",
       "      <td>0.056126</td>\n",
       "      <td>0.066403</td>\n",
       "      <td>0.069960</td>\n",
       "      <td>0.066008</td>\n",
       "      <td>0.067984</td>\n",
       "      <td>0.080632</td>\n",
       "      <td>0.079842</td>\n",
       "      <td>0.075494</td>\n",
       "      <td>0.0</td>\n",
       "    </tr>\n",
       "    <tr>\n",
       "      <th>4</th>\n",
       "      <td>BK23</td>\n",
       "      <td>0.076029</td>\n",
       "      <td>0.054562</td>\n",
       "      <td>0.022361</td>\n",
       "      <td>0.012522</td>\n",
       "      <td>0.001789</td>\n",
       "      <td>0.002683</td>\n",
       "      <td>0.003578</td>\n",
       "      <td>0.005367</td>\n",
       "      <td>0.007156</td>\n",
       "      <td>...</td>\n",
       "      <td>0.039356</td>\n",
       "      <td>0.042934</td>\n",
       "      <td>0.054562</td>\n",
       "      <td>0.062612</td>\n",
       "      <td>0.059034</td>\n",
       "      <td>0.080501</td>\n",
       "      <td>0.089445</td>\n",
       "      <td>0.109123</td>\n",
       "      <td>0.113596</td>\n",
       "      <td>0.0</td>\n",
       "    </tr>\n",
       "  </tbody>\n",
       "</table>\n",
       "<p>5 rows × 25 columns</p>\n",
       "</div>"
      ],
      "text/plain": [
       "       pu_nbrhood    hour_1    hour_2    hour_3    hour_4    hour_5    hour_6  \\\n",
       "0     Cobble Hill  0.016874  0.009774  0.004524  0.003533  0.005382  0.011095   \n",
       "1  Sheepshead Bay  0.030772  0.019564  0.010597  0.014062  0.006521  0.009986   \n",
       "2  Brighton Beach  0.039627  0.013986  0.011655  0.004662  0.018648  0.002331   \n",
       "3    Coney Island  0.045059  0.026877  0.012648  0.005929  0.005929  0.005929   \n",
       "4            BK23  0.076029  0.054562  0.022361  0.012522  0.001789  0.002683   \n",
       "\n",
       "     hour_7    hour_8    hour_9   ...      hour_15   hour_16   hour_17  \\\n",
       "0  0.027803  0.055013  0.054748   ...     0.053494  0.064919  0.069443   \n",
       "1  0.029142  0.048298  0.047687   ...     0.045853  0.059507  0.081312   \n",
       "2  0.009324  0.027972  0.055944   ...     0.088578  0.088578  0.046620   \n",
       "3  0.022134  0.033597  0.027273   ...     0.049012  0.056126  0.066403   \n",
       "4  0.003578  0.005367  0.007156   ...     0.039356  0.042934  0.054562   \n",
       "\n",
       "    hour_18   hour_19   hour_20   hour_21   hour_22   hour_23  hour_24  \n",
       "0  0.074660  0.073009  0.065579  0.061551  0.054319  0.037809      0.0  \n",
       "1  0.098838  0.062360  0.053801  0.057061  0.045241  0.041573      0.0  \n",
       "2  0.039627  0.051282  0.030303  0.025641  0.018648  0.032634      0.0  \n",
       "3  0.069960  0.066008  0.067984  0.080632  0.079842  0.075494      0.0  \n",
       "4  0.062612  0.059034  0.080501  0.089445  0.109123  0.113596      0.0  \n",
       "\n",
       "[5 rows x 25 columns]"
      ]
     },
     "execution_count": 223,
     "metadata": {},
     "output_type": "execute_result"
    }
   ],
   "source": [
    "# Zone code/name mapping\n",
    "zone_names = pd.read_csv('../code/zones.csv', index_col=0)\n",
    "zone_dict = dict(zip(zone_names.nta_code, zone_names.zone))\n",
    "\n",
    "# Rename index values with real zone names\n",
    "new_final_df = new_final_df.reset_index()\n",
    "new_final_df['pu_nbrhood'].replace(zone_dict, inplace=True)"
   ]
  },
  {
   "cell_type": "code",
   "execution_count": 232,
   "metadata": {},
   "outputs": [],
   "source": [
    "new_final_df.set_index('pu_nbrhood', inplace=True)"
   ]
  },
  {
   "cell_type": "code",
   "execution_count": 248,
   "metadata": {},
   "outputs": [],
   "source": [
    "kmeans = KMeans(n_clusters=12, random_state=0).fit(new_final_df)"
   ]
  },
  {
   "cell_type": "code",
   "execution_count": 249,
   "metadata": {},
   "outputs": [
    {
     "data": {
      "text/plain": [
       "(array([ 0,  1,  2,  3,  4,  5,  6,  7,  8,  9, 10, 11], dtype=int32),\n",
       " array([ 4, 74,  1,  1,  2,  2,  1,  1,  1, 83,  3,  1]))"
      ]
     },
     "execution_count": 249,
     "metadata": {},
     "output_type": "execute_result"
    }
   ],
   "source": [
    "np.unique(kmeans.labels_, return_counts=True)"
   ]
  },
  {
   "cell_type": "code",
   "execution_count": 260,
   "metadata": {},
   "outputs": [],
   "source": [
    "kmeans100 = KMeans(n_clusters=12, random_state=0, n_init=100).fit(new_final_df)"
   ]
  },
  {
   "cell_type": "code",
   "execution_count": 261,
   "metadata": {},
   "outputs": [
    {
     "data": {
      "text/plain": [
       "(array([ 0,  1,  2,  3,  4,  5,  6,  7,  8,  9, 10, 11], dtype=int32),\n",
       " array([ 3,  3,  3,  1,  1,  1, 74,  1,  1,  2,  1, 83]))"
      ]
     },
     "execution_count": 261,
     "metadata": {},
     "output_type": "execute_result"
    }
   ],
   "source": [
    "np.unique(kmeans100.labels_, return_counts=True)"
   ]
  },
  {
   "cell_type": "markdown",
   "metadata": {},
   "source": [
    "Scaling down each row and upping the iterations gives us two unique clusters and a number of small clusters. While not a massive improvement, it does give us something to work with.\n",
    "\n",
    "## Final Scenario: Suggesting similar neighbourhoods to a NYC Green Taxi Driver\n",
    "\n",
    "Ok lets randomly choose a neighbourhood for where the NYC Green Taxi driver is from..."
   ]
  },
  {
   "cell_type": "code",
   "execution_count": 263,
   "metadata": {},
   "outputs": [],
   "source": [
    "from random import randint"
   ]
  },
  {
   "cell_type": "code",
   "execution_count": 265,
   "metadata": {},
   "outputs": [
    {
     "data": {
      "text/plain": [
       "13"
      ]
     },
     "execution_count": 265,
     "metadata": {},
     "output_type": "execute_result"
    }
   ],
   "source": [
    "randint(1,19)"
   ]
  },
  {
   "cell_type": "code",
   "execution_count": 270,
   "metadata": {},
   "outputs": [],
   "source": [
    "nbrhoods = []\n",
    "\n",
    "for i in enumerate(vector_df):\n",
    "    nbrhoods.append(i)"
   ]
  },
  {
   "cell_type": "code",
   "execution_count": 277,
   "metadata": {},
   "outputs": [
    {
     "data": {
      "text/plain": [
       "(111, 'BX59')"
      ]
     },
     "execution_count": 277,
     "metadata": {},
     "output_type": "execute_result"
    }
   ],
   "source": [
    "# The taxi drivers is from.....\n",
    "taxi_divers_nbrh = nbrhoods[randint(0,len(nbrhoods))]\n",
    "taxi_divers_nbrh"
   ]
  },
  {
   "cell_type": "code",
   "execution_count": 279,
   "metadata": {},
   "outputs": [
    {
     "data": {
      "text/plain": [
       "'Westchester Village/Unionport'"
      ]
     },
     "execution_count": 279,
     "metadata": {},
     "output_type": "execute_result"
    }
   ],
   "source": [
    "zone_dict[taxi_divers_nbrh[1]]"
   ]
  },
  {
   "cell_type": "code",
   "execution_count": 280,
   "metadata": {},
   "outputs": [],
   "source": [
    "new_final_df['kmean_clusters'] = kmeans100.labels_"
   ]
  },
  {
   "cell_type": "code",
   "execution_count": 284,
   "metadata": {},
   "outputs": [
    {
     "data": {
      "text/plain": [
       "pu_nbrhood\n",
       "Westchester Village/Unionport    11\n",
       "Name: kmean_clusters, dtype: int32"
      ]
     },
     "execution_count": 284,
     "metadata": {},
     "output_type": "execute_result"
    }
   ],
   "source": [
    "new_final_df[new_final_df.index == zone_dict[taxi_divers_nbrh[1]]].loc[:,'kmean_clusters']"
   ]
  },
  {
   "cell_type": "markdown",
   "metadata": {},
   "source": [
    "So the taxi driver lives within one of the two large clusters, number 11. So lets see if we can narrow the suggestions down further.\n",
    "\n",
    "Ideally the NYC Green Taxi driver would like to work in an neighbourhood with similar working hours as Westchester Village but with better tips, and if possible less distance to travel (to save on gas!)."
   ]
  },
  {
   "cell_type": "code",
   "execution_count": 292,
   "metadata": {},
   "outputs": [
    {
     "data": {
      "text/html": [
       "<div>\n",
       "<style scoped>\n",
       "    .dataframe tbody tr th:only-of-type {\n",
       "        vertical-align: middle;\n",
       "    }\n",
       "\n",
       "    .dataframe tbody tr th {\n",
       "        vertical-align: top;\n",
       "    }\n",
       "\n",
       "    .dataframe thead tr th {\n",
       "        text-align: left;\n",
       "    }\n",
       "\n",
       "    .dataframe thead tr:last-of-type th {\n",
       "        text-align: right;\n",
       "    }\n",
       "</style>\n",
       "<table border=\"1\" class=\"dataframe\">\n",
       "  <thead>\n",
       "    <tr>\n",
       "      <th></th>\n",
       "      <th colspan=\"2\" halign=\"left\">pass_count</th>\n",
       "      <th colspan=\"2\" halign=\"left\">distance</th>\n",
       "      <th colspan=\"2\" halign=\"left\">fare</th>\n",
       "      <th colspan=\"2\" halign=\"left\">tip</th>\n",
       "      <th colspan=\"2\" halign=\"left\">total</th>\n",
       "      <th colspan=\"2\" halign=\"left\">payment_type</th>\n",
       "      <th colspan=\"2\" halign=\"left\">trip_type</th>\n",
       "    </tr>\n",
       "    <tr>\n",
       "      <th></th>\n",
       "      <th>count</th>\n",
       "      <th>mean</th>\n",
       "      <th>count</th>\n",
       "      <th>mean</th>\n",
       "      <th>count</th>\n",
       "      <th>mean</th>\n",
       "      <th>count</th>\n",
       "      <th>mean</th>\n",
       "      <th>count</th>\n",
       "      <th>mean</th>\n",
       "      <th>count</th>\n",
       "      <th>mean</th>\n",
       "      <th>count</th>\n",
       "      <th>mean</th>\n",
       "    </tr>\n",
       "    <tr>\n",
       "      <th>pu_nbrhood</th>\n",
       "      <th></th>\n",
       "      <th></th>\n",
       "      <th></th>\n",
       "      <th></th>\n",
       "      <th></th>\n",
       "      <th></th>\n",
       "      <th></th>\n",
       "      <th></th>\n",
       "      <th></th>\n",
       "      <th></th>\n",
       "      <th></th>\n",
       "      <th></th>\n",
       "      <th></th>\n",
       "      <th></th>\n",
       "    </tr>\n",
       "  </thead>\n",
       "  <tbody>\n",
       "    <tr>\n",
       "      <th>BX59</th>\n",
       "      <td>2100</td>\n",
       "      <td>1.274286</td>\n",
       "      <td>2100</td>\n",
       "      <td>3.166681</td>\n",
       "      <td>2100</td>\n",
       "      <td>12.264929</td>\n",
       "      <td>2100</td>\n",
       "      <td>0.388852</td>\n",
       "      <td>2100</td>\n",
       "      <td>13.640848</td>\n",
       "      <td>2100</td>\n",
       "      <td>1.805714</td>\n",
       "      <td>2100</td>\n",
       "      <td>1.219524</td>\n",
       "    </tr>\n",
       "  </tbody>\n",
       "</table>\n",
       "</div>"
      ],
      "text/plain": [
       "           pass_count           distance            fare              tip  \\\n",
       "                count      mean    count      mean count       mean count   \n",
       "pu_nbrhood                                                                  \n",
       "BX59             2100  1.274286     2100  3.166681  2100  12.264929  2100   \n",
       "\n",
       "                     total            payment_type           trip_type  \\\n",
       "                mean count       mean        count      mean     count   \n",
       "pu_nbrhood                                                               \n",
       "BX59        0.388852  2100  13.640848         2100  1.805714      2100   \n",
       "\n",
       "                      \n",
       "                mean  \n",
       "pu_nbrhood            \n",
       "BX59        1.219524  "
      ]
     },
     "execution_count": 292,
     "metadata": {},
     "output_type": "execute_result"
    }
   ],
   "source": [
    "westchester = df[df['pu_nbrhood'] == taxi_divers_nbrh[1]]\n",
    "westchester.groupby('pu_nbrhood').agg(['count', 'mean'])"
   ]
  },
  {
   "cell_type": "markdown",
   "metadata": {},
   "source": [
    "So, looking at this info, we see that Westchester Village has:\n",
    "* a total of 2100 pick ups in August (pretty low),\n",
    "* taxi drivers there take in a mean total fare of 13.64 dollars, and\n",
    "* they travel a a mean distance of 3.17 miles"
   ]
  },
  {
   "cell_type": "code",
   "execution_count": 317,
   "metadata": {},
   "outputs": [],
   "source": [
    "totals_df = df.groupby('pu_nbrhood').mean()\n",
    "totals_count = df.groupby('pu_nbrhood').count()\n",
    "totals_df['count'] = totals_count.total\n",
    "\n",
    "totals_df['clusters'] = kmeans100.labels_\n",
    "\n",
    "totals_df = totals_df[totals_df.clusters == 11]"
   ]
  },
  {
   "cell_type": "code",
   "execution_count": 321,
   "metadata": {},
   "outputs": [
    {
     "data": {
      "text/plain": [
       "35"
      ]
     },
     "execution_count": 321,
     "metadata": {},
     "output_type": "execute_result"
    }
   ],
   "source": [
    "# Remove any neighbourhoods with distance higher than 3.17 miles\n",
    "totals_df = totals_df[totals_df.distance < 3.17]\n",
    "len(totals_df)"
   ]
  },
  {
   "cell_type": "code",
   "execution_count": 322,
   "metadata": {},
   "outputs": [
    {
     "data": {
      "text/plain": [
       "14"
      ]
     },
     "execution_count": 322,
     "metadata": {},
     "output_type": "execute_result"
    }
   ],
   "source": [
    "# Remove any neighbourhoods with total fare lower than 13.64 dollars\n",
    "totals_df = totals_df[totals_df.total > 13.64]\n",
    "len(totals_df)"
   ]
  },
  {
   "cell_type": "code",
   "execution_count": 330,
   "metadata": {},
   "outputs": [
    {
     "data": {
      "text/plain": [
       "9"
      ]
     },
     "execution_count": 330,
     "metadata": {},
     "output_type": "execute_result"
    }
   ],
   "source": [
    "# Remove any neighbourhoods with total number of pickups lower than 2100\n",
    "totals_df = totals_df[totals_df['count'] > 2100]\n",
    "len(totals_df)"
   ]
  },
  {
   "cell_type": "markdown",
   "metadata": {},
   "source": [
    "So taking into account all the criteria we laid out above, we are left we 9 suggestions:"
   ]
  },
  {
   "cell_type": "code",
   "execution_count": 338,
   "metadata": {},
   "outputs": [
    {
     "data": {
      "text/html": [
       "<div>\n",
       "<style scoped>\n",
       "    .dataframe tbody tr th:only-of-type {\n",
       "        vertical-align: middle;\n",
       "    }\n",
       "\n",
       "    .dataframe tbody tr th {\n",
       "        vertical-align: top;\n",
       "    }\n",
       "\n",
       "    .dataframe thead th {\n",
       "        text-align: right;\n",
       "    }\n",
       "</style>\n",
       "<table border=\"1\" class=\"dataframe\">\n",
       "  <thead>\n",
       "    <tr style=\"text-align: right;\">\n",
       "      <th></th>\n",
       "      <th>pass_count</th>\n",
       "      <th>distance</th>\n",
       "      <th>fare</th>\n",
       "      <th>tip</th>\n",
       "      <th>total</th>\n",
       "      <th>payment_type</th>\n",
       "      <th>trip_type</th>\n",
       "      <th>count</th>\n",
       "      <th>clusters</th>\n",
       "    </tr>\n",
       "    <tr>\n",
       "      <th>pu_nbrhood</th>\n",
       "      <th></th>\n",
       "      <th></th>\n",
       "      <th></th>\n",
       "      <th></th>\n",
       "      <th></th>\n",
       "      <th></th>\n",
       "      <th></th>\n",
       "      <th></th>\n",
       "      <th></th>\n",
       "    </tr>\n",
       "  </thead>\n",
       "  <tbody>\n",
       "    <tr>\n",
       "      <th>Belmont</th>\n",
       "      <td>1.347596</td>\n",
       "      <td>2.903305</td>\n",
       "      <td>12.312433</td>\n",
       "      <td>0.642372</td>\n",
       "      <td>13.982074</td>\n",
       "      <td>1.735126</td>\n",
       "      <td>1.140587</td>\n",
       "      <td>2454</td>\n",
       "      <td>11</td>\n",
       "    </tr>\n",
       "    <tr>\n",
       "      <th>East Tremont</th>\n",
       "      <td>1.236364</td>\n",
       "      <td>3.042269</td>\n",
       "      <td>12.494624</td>\n",
       "      <td>0.516521</td>\n",
       "      <td>14.023760</td>\n",
       "      <td>1.680165</td>\n",
       "      <td>1.157025</td>\n",
       "      <td>2420</td>\n",
       "      <td>11</td>\n",
       "    </tr>\n",
       "    <tr>\n",
       "      <th>Spuyten Duyvil/Kingsbridge</th>\n",
       "      <td>1.210696</td>\n",
       "      <td>2.905067</td>\n",
       "      <td>12.162656</td>\n",
       "      <td>0.737782</td>\n",
       "      <td>14.037446</td>\n",
       "      <td>1.717842</td>\n",
       "      <td>1.088520</td>\n",
       "      <td>2169</td>\n",
       "      <td>11</td>\n",
       "    </tr>\n",
       "    <tr>\n",
       "      <th>Van Nest/Morris Park</th>\n",
       "      <td>1.278280</td>\n",
       "      <td>3.073842</td>\n",
       "      <td>12.187434</td>\n",
       "      <td>0.541388</td>\n",
       "      <td>13.724373</td>\n",
       "      <td>1.745211</td>\n",
       "      <td>1.198771</td>\n",
       "      <td>2767</td>\n",
       "      <td>11</td>\n",
       "    </tr>\n",
       "    <tr>\n",
       "      <th>Hamilton Heights</th>\n",
       "      <td>1.229236</td>\n",
       "      <td>2.921072</td>\n",
       "      <td>11.827800</td>\n",
       "      <td>1.023102</td>\n",
       "      <td>14.078917</td>\n",
       "      <td>1.587225</td>\n",
       "      <td>1.031938</td>\n",
       "      <td>23984</td>\n",
       "      <td>11</td>\n",
       "    </tr>\n",
       "    <tr>\n",
       "      <th>Manhattanville</th>\n",
       "      <td>1.249103</td>\n",
       "      <td>2.867386</td>\n",
       "      <td>11.696914</td>\n",
       "      <td>0.992775</td>\n",
       "      <td>13.914921</td>\n",
       "      <td>1.580956</td>\n",
       "      <td>1.032622</td>\n",
       "      <td>11710</td>\n",
       "      <td>11</td>\n",
       "    </tr>\n",
       "    <tr>\n",
       "      <th>Morningside Heights</th>\n",
       "      <td>1.314280</td>\n",
       "      <td>2.758586</td>\n",
       "      <td>11.739215</td>\n",
       "      <td>1.276069</td>\n",
       "      <td>14.342717</td>\n",
       "      <td>1.490644</td>\n",
       "      <td>1.007886</td>\n",
       "      <td>46920</td>\n",
       "      <td>11</td>\n",
       "    </tr>\n",
       "    <tr>\n",
       "      <th>Upper East Side South</th>\n",
       "      <td>1.356322</td>\n",
       "      <td>2.662498</td>\n",
       "      <td>11.676133</td>\n",
       "      <td>1.479648</td>\n",
       "      <td>14.388796</td>\n",
       "      <td>1.382691</td>\n",
       "      <td>1.003719</td>\n",
       "      <td>2958</td>\n",
       "      <td>11</td>\n",
       "    </tr>\n",
       "    <tr>\n",
       "      <th>Rego Park</th>\n",
       "      <td>1.525585</td>\n",
       "      <td>3.127697</td>\n",
       "      <td>13.036200</td>\n",
       "      <td>0.710555</td>\n",
       "      <td>15.050502</td>\n",
       "      <td>1.739967</td>\n",
       "      <td>1.005769</td>\n",
       "      <td>11960</td>\n",
       "      <td>11</td>\n",
       "    </tr>\n",
       "  </tbody>\n",
       "</table>\n",
       "</div>"
      ],
      "text/plain": [
       "                            pass_count  distance       fare       tip  \\\n",
       "pu_nbrhood                                                              \n",
       "Belmont                       1.347596  2.903305  12.312433  0.642372   \n",
       "East Tremont                  1.236364  3.042269  12.494624  0.516521   \n",
       "Spuyten Duyvil/Kingsbridge    1.210696  2.905067  12.162656  0.737782   \n",
       "Van Nest/Morris Park          1.278280  3.073842  12.187434  0.541388   \n",
       "Hamilton Heights              1.229236  2.921072  11.827800  1.023102   \n",
       "Manhattanville                1.249103  2.867386  11.696914  0.992775   \n",
       "Morningside Heights           1.314280  2.758586  11.739215  1.276069   \n",
       "Upper East Side South         1.356322  2.662498  11.676133  1.479648   \n",
       "Rego Park                     1.525585  3.127697  13.036200  0.710555   \n",
       "\n",
       "                                total  payment_type  trip_type  count  \\\n",
       "pu_nbrhood                                                              \n",
       "Belmont                     13.982074      1.735126   1.140587   2454   \n",
       "East Tremont                14.023760      1.680165   1.157025   2420   \n",
       "Spuyten Duyvil/Kingsbridge  14.037446      1.717842   1.088520   2169   \n",
       "Van Nest/Morris Park        13.724373      1.745211   1.198771   2767   \n",
       "Hamilton Heights            14.078917      1.587225   1.031938  23984   \n",
       "Manhattanville              13.914921      1.580956   1.032622  11710   \n",
       "Morningside Heights         14.342717      1.490644   1.007886  46920   \n",
       "Upper East Side South       14.388796      1.382691   1.003719   2958   \n",
       "Rego Park                   15.050502      1.739967   1.005769  11960   \n",
       "\n",
       "                            clusters  \n",
       "pu_nbrhood                            \n",
       "Belmont                           11  \n",
       "East Tremont                      11  \n",
       "Spuyten Duyvil/Kingsbridge        11  \n",
       "Van Nest/Morris Park              11  \n",
       "Hamilton Heights                  11  \n",
       "Manhattanville                    11  \n",
       "Morningside Heights               11  \n",
       "Upper East Side South             11  \n",
       "Rego Park                         11  "
      ]
     },
     "execution_count": 338,
     "metadata": {},
     "output_type": "execute_result"
    }
   ],
   "source": [
    "final_nbrhoods = totals_df\n",
    "final_nbrhoods = final_nbrhoods.reset_index()\n",
    "final_nbrhoods['pu_nbrhood'].replace(zone_dict, inplace=True)\n",
    "final_nbrhoods.set_index('pu_nbrhood')"
   ]
  }
 ],
 "metadata": {
  "kernelspec": {
   "display_name": "Python 3",
   "language": "python",
   "name": "python3"
  },
  "language_info": {
   "codemirror_mode": {
    "name": "ipython",
    "version": 3
   },
   "file_extension": ".py",
   "mimetype": "text/x-python",
   "name": "python",
   "nbconvert_exporter": "python",
   "pygments_lexer": "ipython3",
   "version": "3.6.3"
  }
 },
 "nbformat": 4,
 "nbformat_minor": 2
}
